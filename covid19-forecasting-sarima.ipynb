{
 "cells": [
  {
   "cell_type": "markdown",
   "metadata": {},
   "source": [
    "## Import Libraries\n"
   ]
  },
  {
   "cell_type": "code",
   "execution_count": 1,
   "metadata": {
    "colab": {},
    "colab_type": "code",
    "id": "GKIQuVu5EVKy"
   },
   "outputs": [],
   "source": [
    "\n",
    "import pandas as pd \n",
    "import numpy as np \n",
    "import sys\n",
    "import warnings\n",
    "import itertools\n",
    "from pandas.plotting import autocorrelation_plot\n",
    "from statsmodels.graphics.tsaplots import plot_acf\n",
    "from matplotlib import pyplot as plt\n",
    "from pandas.plotting import lag_plot\n",
    "import statsmodels.api as sm\n",
    "import statsmodels.tsa.api as smt\n",
    "import statsmodels.formula.api as smf\n",
    "from sklearn.metrics import mean_squared_error\n",
    "import matplotlib.pyplot as plt\n",
    "%matplotlib inline\n",
    "import datetime\n",
    "import calendar\n",
    "import seaborn as sns\n",
    "from statsmodels.tsa.ar_model import AR\n",
    "from statsmodels.tsa.arima_model import ARMA\n",
    "from statsmodels.tsa.arima_model import ARIMA\n",
    "from statsmodels.tsa.statespace.sarimax import SARIMAX\n",
    "\n",
    "warnings.filterwarnings(\"ignore\")"
   ]
  },
  {
   "cell_type": "markdown",
   "metadata": {},
   "source": [
    "## Reading train data"
   ]
  },
  {
   "cell_type": "code",
   "execution_count": 2,
   "metadata": {
    "colab": {},
    "colab_type": "code",
    "id": "SOm-i00cEq55"
   },
   "outputs": [
    {
     "data": {
      "text/html": [
       "<div>\n",
       "<style scoped>\n",
       "    .dataframe tbody tr th:only-of-type {\n",
       "        vertical-align: middle;\n",
       "    }\n",
       "\n",
       "    .dataframe tbody tr th {\n",
       "        vertical-align: top;\n",
       "    }\n",
       "\n",
       "    .dataframe thead th {\n",
       "        text-align: right;\n",
       "    }\n",
       "</style>\n",
       "<table border=\"1\" class=\"dataframe\">\n",
       "  <thead>\n",
       "    <tr style=\"text-align: right;\">\n",
       "      <th></th>\n",
       "      <th>Id</th>\n",
       "      <th>Province_State</th>\n",
       "      <th>Country_Region</th>\n",
       "      <th>Date</th>\n",
       "      <th>ConfirmedCases</th>\n",
       "      <th>Fatalities</th>\n",
       "    </tr>\n",
       "  </thead>\n",
       "  <tbody>\n",
       "    <tr>\n",
       "      <th>0</th>\n",
       "      <td>1</td>\n",
       "      <td>NA</td>\n",
       "      <td>Afghanistan</td>\n",
       "      <td>2020-01-22</td>\n",
       "      <td>0.0</td>\n",
       "      <td>0.0</td>\n",
       "    </tr>\n",
       "    <tr>\n",
       "      <th>1</th>\n",
       "      <td>2</td>\n",
       "      <td>NA</td>\n",
       "      <td>Afghanistan</td>\n",
       "      <td>2020-01-23</td>\n",
       "      <td>0.0</td>\n",
       "      <td>0.0</td>\n",
       "    </tr>\n",
       "    <tr>\n",
       "      <th>2</th>\n",
       "      <td>3</td>\n",
       "      <td>NA</td>\n",
       "      <td>Afghanistan</td>\n",
       "      <td>2020-01-24</td>\n",
       "      <td>0.0</td>\n",
       "      <td>0.0</td>\n",
       "    </tr>\n",
       "    <tr>\n",
       "      <th>3</th>\n",
       "      <td>4</td>\n",
       "      <td>NA</td>\n",
       "      <td>Afghanistan</td>\n",
       "      <td>2020-01-25</td>\n",
       "      <td>0.0</td>\n",
       "      <td>0.0</td>\n",
       "    </tr>\n",
       "    <tr>\n",
       "      <th>4</th>\n",
       "      <td>5</td>\n",
       "      <td>NA</td>\n",
       "      <td>Afghanistan</td>\n",
       "      <td>2020-01-26</td>\n",
       "      <td>0.0</td>\n",
       "      <td>0.0</td>\n",
       "    </tr>\n",
       "  </tbody>\n",
       "</table>\n",
       "</div>"
      ],
      "text/plain": [
       "   Id Province_State Country_Region        Date  ConfirmedCases  Fatalities\n",
       "0   1             NA    Afghanistan  2020-01-22             0.0         0.0\n",
       "1   2             NA    Afghanistan  2020-01-23             0.0         0.0\n",
       "2   3             NA    Afghanistan  2020-01-24             0.0         0.0\n",
       "3   4             NA    Afghanistan  2020-01-25             0.0         0.0\n",
       "4   5             NA    Afghanistan  2020-01-26             0.0         0.0"
      ]
     },
     "execution_count": 2,
     "metadata": {},
     "output_type": "execute_result"
    }
   ],
   "source": [
    "df_train = pd.read_csv(\"/kaggle/input/covid19-global-forecasting-week-2/train.csv\")\n",
    "df_train.fillna('NA',inplace=True)\n",
    "df_train.head()"
   ]
  },
  {
   "cell_type": "markdown",
   "metadata": {},
   "source": [
    "## Reading test"
   ]
  },
  {
   "cell_type": "code",
   "execution_count": 3,
   "metadata": {
    "colab": {},
    "colab_type": "code",
    "id": "k6cR64WdHYr0"
   },
   "outputs": [
    {
     "data": {
      "text/html": [
       "<div>\n",
       "<style scoped>\n",
       "    .dataframe tbody tr th:only-of-type {\n",
       "        vertical-align: middle;\n",
       "    }\n",
       "\n",
       "    .dataframe tbody tr th {\n",
       "        vertical-align: top;\n",
       "    }\n",
       "\n",
       "    .dataframe thead th {\n",
       "        text-align: right;\n",
       "    }\n",
       "</style>\n",
       "<table border=\"1\" class=\"dataframe\">\n",
       "  <thead>\n",
       "    <tr style=\"text-align: right;\">\n",
       "      <th></th>\n",
       "      <th>ForecastId</th>\n",
       "      <th>Province_State</th>\n",
       "      <th>Country_Region</th>\n",
       "      <th>Date</th>\n",
       "    </tr>\n",
       "  </thead>\n",
       "  <tbody>\n",
       "    <tr>\n",
       "      <th>0</th>\n",
       "      <td>1</td>\n",
       "      <td>NA</td>\n",
       "      <td>Afghanistan</td>\n",
       "      <td>2020-03-19</td>\n",
       "    </tr>\n",
       "    <tr>\n",
       "      <th>1</th>\n",
       "      <td>2</td>\n",
       "      <td>NA</td>\n",
       "      <td>Afghanistan</td>\n",
       "      <td>2020-03-20</td>\n",
       "    </tr>\n",
       "    <tr>\n",
       "      <th>2</th>\n",
       "      <td>3</td>\n",
       "      <td>NA</td>\n",
       "      <td>Afghanistan</td>\n",
       "      <td>2020-03-21</td>\n",
       "    </tr>\n",
       "    <tr>\n",
       "      <th>3</th>\n",
       "      <td>4</td>\n",
       "      <td>NA</td>\n",
       "      <td>Afghanistan</td>\n",
       "      <td>2020-03-22</td>\n",
       "    </tr>\n",
       "    <tr>\n",
       "      <th>4</th>\n",
       "      <td>5</td>\n",
       "      <td>NA</td>\n",
       "      <td>Afghanistan</td>\n",
       "      <td>2020-03-23</td>\n",
       "    </tr>\n",
       "  </tbody>\n",
       "</table>\n",
       "</div>"
      ],
      "text/plain": [
       "   ForecastId Province_State Country_Region        Date\n",
       "0           1             NA    Afghanistan  2020-03-19\n",
       "1           2             NA    Afghanistan  2020-03-20\n",
       "2           3             NA    Afghanistan  2020-03-21\n",
       "3           4             NA    Afghanistan  2020-03-22\n",
       "4           5             NA    Afghanistan  2020-03-23"
      ]
     },
     "execution_count": 3,
     "metadata": {},
     "output_type": "execute_result"
    }
   ],
   "source": [
    "df_test = pd.read_csv(\"/kaggle/input/covid19-global-forecasting-week-2/test.csv\")\n",
    "df_test.fillna('NA',inplace=True)\n",
    "df_test.head()"
   ]
  },
  {
   "cell_type": "markdown",
   "metadata": {},
   "source": [
    "### Making regions and dropping columns"
   ]
  },
  {
   "cell_type": "code",
   "execution_count": 4,
   "metadata": {
    "colab": {
     "base_uri": "https://localhost:8080/",
     "height": 204
    },
    "colab_type": "code",
    "id": "eVw-dAEuId7e",
    "outputId": "691180c2-4eb1-47f1-fbb6-01da58d3bd97"
   },
   "outputs": [],
   "source": [
    "df_train['region']=df_train['Province_State']+df_train['Country_Region']\n",
    "df_train.drop('Province_State',axis=1,inplace=True)\n",
    "df_train.drop('Country_Region',axis=1,inplace=True)"
   ]
  },
  {
   "cell_type": "code",
   "execution_count": 5,
   "metadata": {
    "colab": {
     "base_uri": "https://localhost:8080/",
     "height": 34
    },
    "colab_type": "code",
    "id": "q0gmfOmsinYQ",
    "outputId": "b5c644b7-eef3-4e1a-92cc-b0af44a5fffe"
   },
   "outputs": [],
   "source": [
    "df_test['region']=df_test['Province_State']+df_test['Country_Region']\n",
    "df_test.drop('Province_State',axis=1,inplace=True)\n",
    "df_test.drop('Country_Region',axis=1,inplace=True)"
   ]
  },
  {
   "cell_type": "code",
   "execution_count": 6,
   "metadata": {},
   "outputs": [],
   "source": [
    "# Define the p, d and q parameters to take any value between 0 and 2\n",
    "p = range(0,2)\n",
    "d = range(0,2)\n",
    "q = range(0,1)"
   ]
  },
  {
   "cell_type": "code",
   "execution_count": 7,
   "metadata": {},
   "outputs": [],
   "source": [
    "# Generate all different combinations of p, d and q triplets\n",
    "pdq = list(itertools.product(p, d, q))\n",
    "\n",
    "# Generate all different combinations of seasonal p, q and q triplets\n",
    "seasonal_pdq = [(x[0], x[1], x[2], 12) for x in list(itertools.product(p, d, q))]"
   ]
  },
  {
   "cell_type": "code",
   "execution_count": 8,
   "metadata": {},
   "outputs": [],
   "source": [
    "best_aic = np.inf\n",
    "best_pdq = None\n",
    "best_seasonal_pdq = None\n",
    "temp_model = None\n",
    "for param in pdq:   \n",
    "    for param_seasonal in seasonal_pdq: \n",
    "        temp_model = SARIMAX(df_train.ConfirmedCases,order=param,seasonal_order = param_seasonal,enforce_invertibility=False,\n",
    "                             enforce_stationarity=False)\n",
    "        results = temp_model.fit(disp=False)\n",
    "        if results.aic < best_aic:\n",
    "            best_aic = results.aic\n",
    "            best_pdq = param\n",
    "            best_seasonal_pdq = param_seasonal\n",
    "print(\"Best ARIMA {} x {} model - AIC:{}\".format(best_pdq,best_seasonal_pdq,best_aic))"
   ]
  },
  {
   "cell_type": "code",
   "execution_count": 9,
   "metadata": {},
   "outputs": [
    {
     "name": "stdout",
     "output_type": "stream",
     "text": [
      "Total Regions =  294\n"
     ]
    }
   ],
   "source": [
    "countries_list=df_train.region.unique()\n",
    "distictRegions=[]\n",
    "for i in countries_list:\n",
    "    distictRegions.append(df_train[df_train['region']==i])\n",
    "print(\"Total Regions =  \"+ str(len(countries_list)))\n",
    "\n",
    "distictTestRegions=[]\n",
    "for i in countries_list:\n",
    "    distictTestRegions.append(df_test[df_test['region']==i])"
   ]
  },
  {
   "cell_type": "markdown",
   "metadata": {},
   "source": [
    "## Time Series Analysis using SARIMA model"
   ]
  },
  {
   "cell_type": "code",
   "execution_count": 10,
   "metadata": {
    "colab": {},
    "colab_type": "code",
    "id": "4drqzxnpTy51"
   },
   "outputs": [],
   "source": [
    "#create the estimates assuming measurement error \n",
    "import math\n",
    "confirmed=[]\n",
    "fatal=[]\n",
    "j = 0\n",
    "for region in distictRegions:\n",
    "    test_len = len(distictTestRegions[j])\n",
    "    j = j + 1\n",
    "    # contrived dataset\n",
    "    data = region.ConfirmedCases.astype('int32').tolist()\n",
    "    # fit model\n",
    "    try:       \n",
    "        model = SARIMA(data, order=(1,1,0), seasonal_order=(1,1,0,12),measurement_error=True)#seasonal_order=(1, 1, 1, 1))       \n",
    "        #model = ARIMA(data, order=(3,1,2))\n",
    "        model_fit = model.fit(disp=False)\n",
    "        # make prediction\n",
    "        predicted = model_fit.predict(len(data), len(data)+test_len-1)\n",
    "        new=np.concatenate((np.array(data),np.array([int(num) for num in predicted])),axis=0)\n",
    "        confirmed.extend(list(new[-test_len:]))\n",
    "    except:\n",
    "        confirmed.extend(list(data[-10:-1]))\n",
    "        for j in range(34):\n",
    "            confirmed.append(data[-1]*2)\n",
    "    \n",
    "    # contrived dataset\n",
    "    data = region.Fatalities.astype('int32').tolist()\n",
    "    # fit model\n",
    "    try:        \n",
    "        #model = SARIMAX(data, order=(1,1,0), seasonal_order=(1,1,0,12),measurement_error=True)#seasonal_order=(1, 1, 1, 1))\n",
    "        model = ARIMA(data, order=(3,1,2))\n",
    "        model_fit = model.fit(disp=False)\n",
    "        predicted = model_fit.predict(len(data))\n",
    "        new=np.concatenate((np.array(data),np.array([int(num) for num in predicted])),axis=0)\n",
    "        fatal.extend(list(new[-test_len:]))\n",
    "    except:\n",
    "        fatal.extend(list(data[-10:-1]))\n",
    "        for j in range(34):\n",
    "            fatal.append(data[-1]*2)"
   ]
  },
  {
   "cell_type": "code",
   "execution_count": 11,
   "metadata": {
    "colab": {},
    "colab_type": "code",
    "id": "uJYyHwy9mgZz"
   },
   "outputs": [],
   "source": [
    "df_submit=pd.concat([pd.Series(np.arange(1,1+len(confirmed))),pd.Series(confirmed),pd.Series(fatal)],axis=1)\n",
    "df_submit=df_submit.fillna(method='pad').astype(int)\n",
    "df_submit.rename(columns={0: 'ForecastId', 1: 'ConfirmedCases',2: 'Fatalities',}, inplace=True)"
   ]
  },
  {
   "cell_type": "code",
   "execution_count": 12,
   "metadata": {
    "colab": {
     "base_uri": "https://localhost:8080/",
     "height": 204
    },
    "colab_type": "code",
    "id": "k0I2M8qFqB_x",
    "outputId": "017adc4d-655d-49f0-946b-868c1408ca97"
   },
   "outputs": [
    {
     "data": {
      "text/html": [
       "<div>\n",
       "<style scoped>\n",
       "    .dataframe tbody tr th:only-of-type {\n",
       "        vertical-align: middle;\n",
       "    }\n",
       "\n",
       "    .dataframe tbody tr th {\n",
       "        vertical-align: top;\n",
       "    }\n",
       "\n",
       "    .dataframe thead th {\n",
       "        text-align: right;\n",
       "    }\n",
       "</style>\n",
       "<table border=\"1\" class=\"dataframe\">\n",
       "  <thead>\n",
       "    <tr style=\"text-align: right;\">\n",
       "      <th></th>\n",
       "      <th>ForecastId</th>\n",
       "      <th>ConfirmedCases</th>\n",
       "      <th>Fatalities</th>\n",
       "    </tr>\n",
       "  </thead>\n",
       "  <tbody>\n",
       "    <tr>\n",
       "      <th>0</th>\n",
       "      <td>1</td>\n",
       "      <td>22</td>\n",
       "      <td>0</td>\n",
       "    </tr>\n",
       "    <tr>\n",
       "      <th>1</th>\n",
       "      <td>2</td>\n",
       "      <td>24</td>\n",
       "      <td>0</td>\n",
       "    </tr>\n",
       "    <tr>\n",
       "      <th>2</th>\n",
       "      <td>3</td>\n",
       "      <td>24</td>\n",
       "      <td>0</td>\n",
       "    </tr>\n",
       "    <tr>\n",
       "      <th>3</th>\n",
       "      <td>4</td>\n",
       "      <td>40</td>\n",
       "      <td>1</td>\n",
       "    </tr>\n",
       "    <tr>\n",
       "      <th>4</th>\n",
       "      <td>5</td>\n",
       "      <td>40</td>\n",
       "      <td>1</td>\n",
       "    </tr>\n",
       "  </tbody>\n",
       "</table>\n",
       "</div>"
      ],
      "text/plain": [
       "   ForecastId  ConfirmedCases  Fatalities\n",
       "0           1              22           0\n",
       "1           2              24           0\n",
       "2           3              24           0\n",
       "3           4              40           1\n",
       "4           5              40           1"
      ]
     },
     "execution_count": 12,
     "metadata": {},
     "output_type": "execute_result"
    }
   ],
   "source": [
    "df_submit.head() "
   ]
  },
  {
   "cell_type": "markdown",
   "metadata": {},
   "source": [
    "## Submission \n",
    "### Exporting forecasting for test data [submission.csv]\n"
   ]
  },
  {
   "cell_type": "code",
   "execution_count": 13,
   "metadata": {
    "colab": {},
    "colab_type": "code",
    "id": "4f0X--oeqGOP"
   },
   "outputs": [],
   "source": [
    "df_submit.to_csv('submission.csv',index=False)"
   ]
  },
  {
   "cell_type": "code",
   "execution_count": null,
   "metadata": {
    "colab": {},
    "colab_type": "code",
    "id": "tEG2eON2-VF7"
   },
   "outputs": [],
   "source": []
  },
  {
   "cell_type": "code",
   "execution_count": null,
   "metadata": {},
   "outputs": [],
   "source": []
  }
 ],
 "metadata": {
  "accelerator": "GPU",
  "colab": {
   "name": "Untitled1.ipynb",
   "provenance": [],
   "toc_visible": true
  },
  "kernelspec": {
   "display_name": "Python 3",
   "language": "python",
   "name": "python3"
  },
  "language_info": {
   "codemirror_mode": {
    "name": "ipython",
    "version": 3
   },
   "file_extension": ".py",
   "mimetype": "text/x-python",
   "name": "python",
   "nbconvert_exporter": "python",
   "pygments_lexer": "ipython3",
   "version": "3.7.3"
  }
 },
 "nbformat": 4,
 "nbformat_minor": 4
}
